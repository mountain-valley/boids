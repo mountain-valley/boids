{
 "cells": [
  {
   "cell_type": "code",
   "execution_count": 116,
   "metadata": {
    "collapsed": true,
    "pycharm": {
     "name": "#%%\n"
    }
   },
   "outputs": [],
   "source": [
    "import matplotlib.pyplot as plt\n",
    "import numpy as np\n",
    "import pandas as pd\n",
    "import importlib\n",
    "from icecream import icecream as ic\n",
    "import time\n",
    "from sklearn.preprocessing import normalize"
   ]
  },
  {
   "cell_type": "code",
   "execution_count": 117,
   "outputs": [],
   "source": [
    "imported_module = importlib.import_module(\"boid\")\n",
    "importlib.reload(imported_module)\n",
    "from boid import Boid"
   ],
   "metadata": {
    "collapsed": false,
    "pycharm": {
     "name": "#%%\n"
    }
   }
  },
  {
   "cell_type": "code",
   "execution_count": 114,
   "outputs": [],
   "source": [
    "def polarization(input_flock):\n",
    "    \"\"\"\n",
    "    Caluclates the polarization of the flock, a measure of global ordering. It represents how aligned the velocities of the individual birds are. The higher the number, the more aligned the birds\n",
    "    are. A nonzero value indicates that the center of mass of the flock is moving. Bigger is better/more accurate for flocks\n",
    "    :param input_flock:\n",
    "    :return:\n",
    "    \"\"\"\n",
    "    normed_vel = normalize(input_flock.velocities, axis=0)\n",
    "    sum_vel = np.sum(normed_vel, axis=1)\n",
    "\n",
    "    sum_vel = sum_vel / input_flock.boid_count\n",
    "\n",
    "    order = np.linalg.norm(sum_vel)\n",
    "\n",
    "    return order"
   ],
   "metadata": {
    "collapsed": false,
    "pycharm": {
     "name": "#%%\n"
    }
   }
  },
  {
   "cell_type": "code",
   "execution_count": 66,
   "outputs": [
    {
     "name": "stdout",
     "output_type": "stream",
     "text": [
      "0.8703775254048949\n"
     ]
    }
   ],
   "source": [
    "size = 5\n",
    "flock = Boid(count=size)\n",
    "sum = polarization(flock)\n",
    "print(sum)"
   ],
   "metadata": {
    "collapsed": false,
    "pycharm": {
     "name": "#%%\n"
    }
   }
  },
  {
   "cell_type": "markdown",
   "source": [
    "#For checking conditions"
   ],
   "metadata": {
    "collapsed": false,
    "pycharm": {
     "name": "#%% md\n"
    }
   }
  },
  {
   "cell_type": "code",
   "execution_count": 76,
   "outputs": [
    {
     "name": "stdout",
     "output_type": "stream",
     "text": [
      "0.7207001841324401\n"
     ]
    }
   ],
   "source": [
    "# Start from many random initial conditions.\n",
    "# 2. For each initial condition, find the trajectory\n",
    "# of the dynamical system for many steps.\n",
    "# 3. Plot the points at the end of each trajectory\n",
    "# How does the attractor depend on 𝜃𝜃?\n",
    "# ● For small 𝜃𝜃, a point attractor\n",
    "# ● Bifurcation at 𝜃𝜃 = 3 leads to a 2-cycle\n",
    "# ● Period-doubling bifurcation (𝜃𝜃 ≈ 3.45)\n",
    "# leads to 4-cycles\n",
    "# ● For 𝜃𝜃 > 3.57, strange attractor and chao\n",
    "\n",
    "size = 200\n",
    "flock = Boid(count=size)\n",
    "num_cond = 30\n",
    "num_steps = 500\n",
    "\n",
    "metrics = []\n",
    "\n",
    "for i in range(num_cond):\n",
    "    flock.reset_flock()\n",
    "    flock.run(num_steps)\n",
    "    polar = polarization(flock)\n",
    "    metrics.append(polar)\n",
    "\n",
    "nump = np.array(metrics)\n",
    "print(np.mean(nump))"
   ],
   "metadata": {
    "collapsed": false,
    "pycharm": {
     "name": "#%%\n"
    }
   }
  },
  {
   "cell_type": "markdown",
   "source": [
    "# Varying parameters"
   ],
   "metadata": {
    "collapsed": false,
    "pycharm": {
     "name": "#%% md\n"
    }
   }
  },
  {
   "cell_type": "code",
   "execution_count": 120,
   "outputs": [
    {
     "ename": "KeyboardInterrupt",
     "evalue": "",
     "output_type": "error",
     "traceback": [
      "\u001B[1;31m---------------------------------------------------------------------------\u001B[0m",
      "\u001B[1;31mKeyboardInterrupt\u001B[0m                         Traceback (most recent call last)",
      "Cell \u001B[1;32mIn[120], line 29\u001B[0m\n\u001B[0;32m     27\u001B[0m \u001B[38;5;28;01mfor\u001B[39;00m i \u001B[38;5;129;01min\u001B[39;00m \u001B[38;5;28mrange\u001B[39m(num_cond):\n\u001B[0;32m     28\u001B[0m     flock\u001B[38;5;241m.\u001B[39mreset_flock()\n\u001B[1;32m---> 29\u001B[0m     \u001B[43mflock\u001B[49m\u001B[38;5;241;43m.\u001B[39;49m\u001B[43mrun\u001B[49m\u001B[43m(\u001B[49m\u001B[43mnum_steps\u001B[49m\u001B[43m)\u001B[49m\n\u001B[0;32m     30\u001B[0m     polar \u001B[38;5;241m=\u001B[39m polarization(flock)\n\u001B[0;32m     31\u001B[0m     same_param\u001B[38;5;241m.\u001B[39mappend(polar)\n",
      "File \u001B[1;32m~\\PycharmProjects\\boids_gui\\boid.py:49\u001B[0m, in \u001B[0;36mBoid.run\u001B[1;34m(self, steps)\u001B[0m\n\u001B[0;32m     47\u001B[0m \u001B[38;5;28;01mfor\u001B[39;00m i \u001B[38;5;129;01min\u001B[39;00m \u001B[38;5;28mrange\u001B[39m(steps):\n\u001B[0;32m     48\u001B[0m     \u001B[38;5;28mself\u001B[39m\u001B[38;5;241m.\u001B[39medges()\n\u001B[1;32m---> 49\u001B[0m     \u001B[38;5;28;43mself\u001B[39;49m\u001B[38;5;241;43m.\u001B[39;49m\u001B[43mupdate\u001B[49m\u001B[43m(\u001B[49m\u001B[43m)\u001B[49m\n\u001B[0;32m     51\u001B[0m \u001B[38;5;28;01mreturn\u001B[39;00m \u001B[38;5;28mself\u001B[39m\u001B[38;5;241m.\u001B[39mpositions, \u001B[38;5;28mself\u001B[39m\u001B[38;5;241m.\u001B[39mvelocities\n",
      "File \u001B[1;32m~\\PycharmProjects\\boids_gui\\boid.py:69\u001B[0m, in \u001B[0;36mBoid.update\u001B[1;34m(self)\u001B[0m\n\u001B[0;32m     67\u001B[0m \u001B[38;5;66;03m# limit the speed\u001B[39;00m\n\u001B[0;32m     68\u001B[0m \u001B[38;5;28;01mfor\u001B[39;00m i \u001B[38;5;129;01min\u001B[39;00m \u001B[38;5;28mrange\u001B[39m(\u001B[38;5;28mself\u001B[39m\u001B[38;5;241m.\u001B[39mboid_count):\n\u001B[1;32m---> 69\u001B[0m     \u001B[38;5;28;01mif\u001B[39;00m \u001B[43mnp\u001B[49m\u001B[38;5;241;43m.\u001B[39;49m\u001B[43mlinalg\u001B[49m\u001B[38;5;241;43m.\u001B[39;49m\u001B[43mnorm\u001B[49m\u001B[43m(\u001B[49m\u001B[38;5;28;43mself\u001B[39;49m\u001B[38;5;241;43m.\u001B[39;49m\u001B[43mvelocities\u001B[49m\u001B[43m[\u001B[49m\u001B[43m:\u001B[49m\u001B[43m,\u001B[49m\u001B[43m \u001B[49m\u001B[43mi\u001B[49m\u001B[43m]\u001B[49m\u001B[43m)\u001B[49m \u001B[38;5;241m>\u001B[39m \u001B[38;5;28mself\u001B[39m\u001B[38;5;241m.\u001B[39mmax_speed:\n\u001B[0;32m     70\u001B[0m         \u001B[38;5;28mself\u001B[39m\u001B[38;5;241m.\u001B[39mvelocities[:, i] \u001B[38;5;241m=\u001B[39m np\u001B[38;5;241m.\u001B[39mdivide(\u001B[38;5;28mself\u001B[39m\u001B[38;5;241m.\u001B[39mvelocities[:, i], np\u001B[38;5;241m.\u001B[39mlinalg\u001B[38;5;241m.\u001B[39mnorm(\u001B[38;5;28mself\u001B[39m\u001B[38;5;241m.\u001B[39mvelocities[:, i])) \u001B[38;5;241m*\u001B[39m \u001B[38;5;28mself\u001B[39m\u001B[38;5;241m.\u001B[39mmax_speed\n\u001B[0;32m     71\u001B[0m     \u001B[38;5;28;01mif\u001B[39;00m np\u001B[38;5;241m.\u001B[39mlinalg\u001B[38;5;241m.\u001B[39mnorm(\u001B[38;5;28mself\u001B[39m\u001B[38;5;241m.\u001B[39mvelocities[:, i]) \u001B[38;5;241m<\u001B[39m \u001B[38;5;28mself\u001B[39m\u001B[38;5;241m.\u001B[39mmin_speed:\n",
      "File \u001B[1;32m<__array_function__ internals>:180\u001B[0m, in \u001B[0;36mnorm\u001B[1;34m(*args, **kwargs)\u001B[0m\n",
      "File \u001B[1;32m~\\PycharmProjects\\boids_gui\\venv\\lib\\site-packages\\numpy\\linalg\\linalg.py:2520\u001B[0m, in \u001B[0;36mnorm\u001B[1;34m(x, ord, axis, keepdims)\u001B[0m\n\u001B[0;32m   2515\u001B[0m ndim \u001B[38;5;241m=\u001B[39m x\u001B[38;5;241m.\u001B[39mndim\n\u001B[0;32m   2516\u001B[0m \u001B[38;5;28;01mif\u001B[39;00m ((\u001B[38;5;28mord\u001B[39m \u001B[38;5;129;01mis\u001B[39;00m \u001B[38;5;28;01mNone\u001B[39;00m) \u001B[38;5;129;01mor\u001B[39;00m\n\u001B[0;32m   2517\u001B[0m     (\u001B[38;5;28mord\u001B[39m \u001B[38;5;129;01min\u001B[39;00m (\u001B[38;5;124m'\u001B[39m\u001B[38;5;124mf\u001B[39m\u001B[38;5;124m'\u001B[39m, \u001B[38;5;124m'\u001B[39m\u001B[38;5;124mfro\u001B[39m\u001B[38;5;124m'\u001B[39m) \u001B[38;5;129;01mand\u001B[39;00m ndim \u001B[38;5;241m==\u001B[39m \u001B[38;5;241m2\u001B[39m) \u001B[38;5;129;01mor\u001B[39;00m\n\u001B[0;32m   2518\u001B[0m     (\u001B[38;5;28mord\u001B[39m \u001B[38;5;241m==\u001B[39m \u001B[38;5;241m2\u001B[39m \u001B[38;5;129;01mand\u001B[39;00m ndim \u001B[38;5;241m==\u001B[39m \u001B[38;5;241m1\u001B[39m)):\n\u001B[1;32m-> 2520\u001B[0m     x \u001B[38;5;241m=\u001B[39m \u001B[43mx\u001B[49m\u001B[38;5;241;43m.\u001B[39;49m\u001B[43mravel\u001B[49m\u001B[43m(\u001B[49m\u001B[43morder\u001B[49m\u001B[38;5;241;43m=\u001B[39;49m\u001B[38;5;124;43m'\u001B[39;49m\u001B[38;5;124;43mK\u001B[39;49m\u001B[38;5;124;43m'\u001B[39;49m\u001B[43m)\u001B[49m\n\u001B[0;32m   2521\u001B[0m     \u001B[38;5;28;01mif\u001B[39;00m isComplexType(x\u001B[38;5;241m.\u001B[39mdtype\u001B[38;5;241m.\u001B[39mtype):\n\u001B[0;32m   2522\u001B[0m         x_real \u001B[38;5;241m=\u001B[39m x\u001B[38;5;241m.\u001B[39mreal\n",
      "\u001B[1;31mKeyboardInterrupt\u001B[0m: "
     ]
    }
   ],
   "source": [
    "# Start from many random initial conditions.\n",
    "# 2. For each initial condition, find the trajectory\n",
    "# of the dynamical system for many steps.\n",
    "# 3. Plot the points at the end of each trajectory\n",
    "# How does the attractor depend on 𝜃𝜃?\n",
    "# ● For small 𝜃𝜃, a point attractor\n",
    "# ● Bifurcation at 𝜃𝜃 = 3 leads to a 2-cycle\n",
    "# ● Period-doubling bifurcation (𝜃𝜃 ≈ 3.45)\n",
    "# leads to 4-cycles\n",
    "# ● For 𝜃𝜃 > 3.57, strange attractor and chao\n",
    "\n",
    "size = 200\n",
    "flock = Boid(count=size, width=400, height=400)\n",
    "num_cond = 15\n",
    "num_steps = 400\n",
    "\n",
    "same_param = []\n",
    "metrics = []\n",
    "\n",
    "centering = np.linspace(0.0005, 1, num=50)\n",
    "separation = np.linspace(0.01, 1, num=50)\n",
    "align = np.linspace(0.01, 1, num=50)\n",
    "# print(centering)\n",
    "\n",
    "start_time = time.time()\n",
    "for param in align:\n",
    "    for i in range(num_cond):\n",
    "        flock.reset_flock()\n",
    "        flock.run(num_steps)\n",
    "        polar = polarization(flock)\n",
    "        same_param.append(polar)\n",
    "    metrics.append(same_param)\n",
    "\n",
    "print((time.time() - start_time) / 60)\n",
    "# nump = np.array(metrics)\n",
    "# print(np.mean(nump))\n",
    "print(metrics)\n"
   ],
   "metadata": {
    "collapsed": false,
    "pycharm": {
     "name": "#%%\n"
    }
   }
  },
  {
   "cell_type": "markdown",
   "source": [
    "# Display"
   ],
   "metadata": {
    "collapsed": false,
    "pycharm": {
     "name": "#%% md\n"
    }
   }
  },
  {
   "cell_type": "code",
   "execution_count": 119,
   "outputs": [
    {
     "name": "stdout",
     "output_type": "stream",
     "text": [
      "0.8019106044435874\n",
      "0.8019106044435874\n",
      "0.8019106044435874\n",
      "0.8019106044435874\n",
      "0.8019106044435874\n",
      "0.8019106044435874\n",
      "0.8019106044435874\n",
      "0.8019106044435874\n",
      "0.8019106044435874\n",
      "0.8019106044435874\n"
     ]
    }
   ],
   "source": [
    "for i in range(10):\n",
    "    print(np.mean(metrics))"
   ],
   "metadata": {
    "collapsed": false,
    "pycharm": {
     "name": "#%%\n"
    }
   }
  },
  {
   "cell_type": "code",
   "execution_count": 111,
   "outputs": [
    {
     "data": {
      "text/plain": "<Figure size 640x480 with 1 Axes>",
      "image/png": "[encoded data removed]"
     },
     "metadata": {},
     "output_type": "display_data"
    }
   ],
   "source": [
    "for i, param in enumerate(centering):\n",
    "    plt.plot([param] * len(metrics[i]), metrics[i], marker='o', color='black')\n",
    "\n",
    "plt.show()"
   ],
   "metadata": {
    "collapsed": false,
    "pycharm": {
     "name": "#%%\n"
    }
   }
  }
 ],
 "metadata": {
  "kernelspec": {
   "display_name": "Python 3",
   "language": "python",
   "name": "python3"
  },
  "language_info": {
   "codemirror_mode": {
    "name": "ipython",
    "version": 2
   },
   "file_extension": ".py",
   "mimetype": "text/x-python",
   "name": "python",
   "nbconvert_exporter": "python",
   "pygments_lexer": "ipython2",
   "version": "2.7.6"
  }
 },
 "nbformat": 4,
 "nbformat_minor": 0
}